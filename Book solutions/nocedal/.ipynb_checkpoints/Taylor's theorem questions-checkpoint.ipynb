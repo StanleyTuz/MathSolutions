{
 "cells": [
  {
   "cell_type": "markdown",
   "metadata": {},
   "source": [
    "The Nocedal book poses an interesting form of Taylor's Theorem (2.1) for multivariate real functions.\n",
    "\\begin{theorem}\n",
    "Suppose that $f:\\mathbb{R}^n \\rightarrow \\mathbb{R}$ is continuously differentiable and that $p\\in \\mathbb{R}^n$. Then we have that $$ f\\left(x+p\\right) = f\\left(x\\right) + \\nabla f\\left(x+tp\\right)^T p $$ for some $t\\in \\left(0,1\\right)$. Moreover, if $f$ is twice continuously differentiable, we have that $$\\nabla f\\left(x+p\\right) = \\nabla f\\left(x\\right) + \\int_0^1 \\nabla^2 f\\left(x+tp\\right)p \\, dt $$ and that $$ f\\left(x+p\\right) = f\\left(x\\right) + \\nabla f\\left(x\\right)^T p + \\frac{1}{2} p^T \\nabla^2 f\\left(x+tp\\right)p $$ for some $t\\in \\left(0,1\\right)$.\n",
    "\\end{theorem}\n",
    "The usual form of this multivariable Taylor's theorem is something similar to the following:\n",
    "\\begin{theorem}\n",
    "Let $f:\\mathbb{R}^n \\rightarrow \\mathbb{R}$ be a $k$-times differentiable function at $a \\in \\mathbb{R}^n$. Then there exists some function $h_{\\alpha}:\\mathbb{R}\\rightarrow \\mathbb{R}$ such that $$ f\\left(x\\right) = \\sum_{\\left|\\alpha\\right|\\leq k} \\frac{1}{\\alpha !} D^{\\alpha} f\\left(a\\right) \\left(x-a\\right)^{\\alpha} + \\sum_{\\left|\\alpha\\right|=k}h_{\\alpha}\\left(x\\right)\\left(x-a\\right)^{\\alpha} $$ where $h_{\\alpha}\\rightarrow 0$ as $x\\rightarrow \\vec{a}$.\n",
    "\\end{theorem}\n",
    "\n",
    "This second version appears to be the more general, standard statement: the function can be approximated locally by a polynomial whose coefficients involve the successive derivatives of $f$, and the remainder after this approximation is somehow a function of the highest order derivatives. There are different formulations of the remainder term that we might pursue, including a Mean Value remainder and a Lagrange form of the remainder.\n",
    "\n",
    "We want to understand how the first theorem is derived, i.e., we want to prove it. There are three statements to prove.\n",
    "\n",
    "\n",
    "## First\n",
    "Recall the Mean Value theorem for univariate real functions.\n",
    "\\begin{theorem}\n",
    "Let $g:\\left[a,b\\right]\\rightarrow \\mathbb{R}$ be continuous, and differentiable on $\\left(a,b\\right)$. Then there is some $c\\in \\left(a,b\\right)$ such that $$ g'\\left(c\\right) = \\frac{f\\left(b\\right)-f\\left(a\\right)}{b-a}$$\n",
    "\\end{theorem}\n",
    "Rearranging this conclusion slightly, we have $$ g\\left(b\\right) = g\\left(a\\right) + g'\\left(c\\right)\\left(b-a\\right)$$ which echoes the standard Taylor expansion of $g$ about $a$. In fact, this is exactly the zeroth order Taylor expansion, with remainder! Unfortunately, we do not have a handle on the particular value of $c$ whose existence the theorem guarantees. \n",
    "\n",
    "Looking at the first statement to prove, that $$f\\left(x+p\\right) = f\\left(x\\right) + \\nabla f\\left(x+tp\\right)^T p $$ for some $t\\in \\left(0,1\\right)$, we can see that there is a very clear similarity with the Mean Value theorem. In fact, this is a multivariate generalization of the Mean Value theorem. It is typically proven by a trick: we parametrize $f$ with a single parameter and apply the univariate version. \n",
    "\n",
    "Let $g:\\left[0,1\\right]\\rightarrow \\mathbb{R}$ as $g\\left(t\\right) = f\\left(x+tp\\right)$. Then by the univariate Mean Value theorem, there is some particular $t\\in\\left(0,1\\right)$ such that $$ \\frac{g\\left(1\\right)-g\\left(0\\right)}{1-0} = g'\\left(t\\right) = \\nabla f\\left(x+tp\\right)^Tp$$ where the chain rule was used to compute the derivative on the right-hand side. But notice that $g\\left(1\\right) = f\\left(x+p\\right)$ and $g\\left(0\\right) = g\\left(x\\right)$, so we have $$ f\\left(x+p\\right) = f\\left(x\\right) + \\nabla f\\left(x+tp\\right)^Tp $$ for this (unknown) $t\\in \\left(0,1\\right)$, proving the first statement.\n",
    "\n",
    "\n",
    "## Second\n",
    "The second statement, $$\\nabla f\\left(x+p\\right) = \\nabla f\\left(x\\right) + \\int_0^1 \\nabla^2 f\\left(x+tp\\right)p \\, dt $$ echoes the first Fundamental Theorem of Calculus: $$ F\\left(b\\right) - F\\left(a\\right) = \\int_a^b f\\left(t\\right)\\, dt $$ where $f:\\mathbb{R}\\rightarrow \\mathbb{R}$ is continuous on $\\left[a,b\\right]$ and $F$ is an antiderivative of $f$. We can use the same trick as in the first part, with the same function $g$. Again, we have $g\\left(1\\right) = f\\left(x+p\\right)$ and $g\\left(0\\right) = f\\left(x\\right)$, and $g'\\left(t\\right) = \\nabla^2 f\\left(x+tp\\right)p$, so the first Fundamental Theorem of Calculus applied to $g$ gives\n",
    "$$ f\\left(x+p\\right)=g\\left(1\\right) = g\\left(0\\right)+\\int_0^1 g'\\left(t\\right)\\, dt =f\\left(x\\right) + \\int_0^1 \\nabla^2 f\\left(x+tp\\right)\\, dt $$ which proves the second statement.\n",
    "\n",
    "## Third\n",
    "The third statement is an extension of the first statement to include terms which are quadratic in $p$: $$ f\\left(x+p\\right) = f\\left(x\\right) + \\nabla f\\left(x\\right)^T p + \\frac{1}{2} p^T \\nabla^2 f\\left(x+tp\\right)p $$ for some $t\\in \\left(0,1\\right)$. Since the first statement is the zeroth order Taylor expansion of the mapping $g:t\\mapsto f\\left(x+tp\\right)$ about $x$, this looks like the first-order Taylor expansion of the same mapping $g$. Both of these forms of the remainder result from the Lagrangian form of the standard univariate Taylor expansion, which is\n",
    "$$ g\\left(t\\right) = \\sum_{i=0}^k \\frac{1}{k!} g^{\\left(k\\right)}\\left(a\\right) \\left(t-a\\right)^k + \\frac{1}{\\left(k+1\\right)!} g^{\\left(k+1\\right)}\\left(\\xi\\right)\\left(t-a\\right)^{k+1} $$ for some $\\xi$ between $a$ and $t$. In our case, we just want to first-order approximation, where $k=1$. With $g\\left(t\\right)=f\\left(x+tp\\right)$, the derivatives are $$g^{\\left(0\\right)}\\left(t\\right) = g\\left(t\\right) = f\\left(x+tp\\right),$$\n",
    "$$g^{\\left(1\\right)}\\left(t\\right) = \\nabla f\\left(x+tp\\right)^T p, $$\n",
    "$$ g^{\\left(2\\right)}\\left(t\\right) = p^T \\nabla^2 f\\left(x+tp\\right)p$$ Thus, expanding around $a=0$, we have the first-order expansion $$  g\\left(t\\right) = g\\left(0\\right) + g'\\left(0\\right) \\, t + \\frac{1}{2} g''\\left(\\xi\\right)\\, t^2 $$ for some $\\xi \\in \\left(0,t\\right)$. Plugging in for these derivatives, this becomes $$ f\\left(x+tp\\right) = f\\left(x\\right) + \\nabla f\\left(x\\right)^T p\\, t + \\frac{1}{2}p^T \\nabla^2 f\\left(x+\\xi p\\right) p \\, t^2$$ In particular, with $t=1$, this becomes $$f\\left(x+p\\right) = f\\left(x\\right) + \\nabla f\\left(x\\right)^T \\, p + \\frac{1}{2} p^T \\nabla^2 f\\left(x+\\xi p\\right)\\, p $$ for some $\\xi \\in \\left(0,1\\right)$. Relabeling $\\xi \\mapsto t$, we obtain exactly the third statement."
   ]
  },
  {
   "cell_type": "code",
   "execution_count": null,
   "metadata": {},
   "outputs": [],
   "source": []
  }
 ],
 "metadata": {
  "kernelspec": {
   "display_name": "Python 3",
   "language": "python",
   "name": "python3"
  },
  "language_info": {
   "codemirror_mode": {
    "name": "ipython",
    "version": 3
   },
   "file_extension": ".py",
   "mimetype": "text/x-python",
   "name": "python",
   "nbconvert_exporter": "python",
   "pygments_lexer": "ipython3",
   "version": "3.7.4"
  },
  "latex_envs": {
   "LaTeX_envs_menu_present": true,
   "autoclose": false,
   "autocomplete": true,
   "bibliofile": "biblio.bib",
   "cite_by": "apalike",
   "current_citInitial": 1,
   "eqLabelWithNumbers": true,
   "eqNumInitial": 1,
   "hotkeys": {
    "equation": "Ctrl-E",
    "itemize": "Ctrl-I"
   },
   "labels_anchors": false,
   "latex_user_defs": false,
   "report_style_numbering": false,
   "user_envs_cfg": false
  }
 },
 "nbformat": 4,
 "nbformat_minor": 2
}
